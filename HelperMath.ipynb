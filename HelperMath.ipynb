{
 "metadata": {
  "name": "",
  "signature": "sha256:5cfbbf6ab27d2a7ec0941d1c1188347e80827d4df13746697767c0c87a31656b"
 },
 "nbformat": 3,
 "nbformat_minor": 0,
 "worksheets": [
  {
   "cells": [
    {
     "cell_type": "code",
     "collapsed": false,
     "input": [
      "%%file HelperMath.py\n",
      "import numpy as np\n",
      "\n",
      "def mag(v):\n",
      "    return np.linalg.norm(v)\n",
      "def norm(v):\n",
      "    return v/mag(v)\n",
      "def pts_to_line(pt1, pt2):\n",
      "    try: \n",
      "        slope = (float(pt2[1]) - float(pt1[1])) / (float(pt2[0]) - float(pt1[0]))\n",
      "        a = -slope\n",
      "        b = 1\n",
      "        c = slope*pt1[0] - pt1[1]\n",
      "    except ZeroDivisionError:\n",
      "        b = 0\n",
      "        a = 1\n",
      "        c = -pt2[0]\n",
      "    return a,b,c\n",
      "def distance_to_line(pt, line):\n",
      "    \"\"\"Line is a tuple of a,b,c where ax + by + c = 0\"\"\"\n",
      "    a,b,c = line\n",
      "    return abs(a*pt[0] + b*pt[1] + c) / np.sqrt(a**2 + b**2)"
     ],
     "language": "python",
     "metadata": {},
     "outputs": [
      {
       "output_type": "stream",
       "stream": "stdout",
       "text": [
        "Overwriting HelperMath.py\n"
       ]
      }
     ],
     "prompt_number": 4
    },
    {
     "cell_type": "code",
     "collapsed": false,
     "input": [],
     "language": "python",
     "metadata": {},
     "outputs": []
    }
   ],
   "metadata": {}
  }
 ]
}